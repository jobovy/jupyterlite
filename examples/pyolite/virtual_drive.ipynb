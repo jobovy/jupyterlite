{
  "metadata": {
    "language_info": {
      "codemirror_mode": {
        "name": "python",
        "version": 3
      },
      "file_extension": ".py",
      "mimetype": "text/x-python",
      "name": "python",
      "nbconvert_exporter": "python",
      "pygments_lexer": "ipython3",
      "version": "3.8"
    },
    "kernelspec": {
      "name": "python",
      "display_name": "Pyolite",
      "language": "python"
    }
  },
  "nbformat_minor": 4,
  "nbformat": 4,
  "cells": [
    {
      "cell_type": "markdown",
      "source": "## Virtual file system support\n\nPyolite mounts a virtual `/drive` directory which allows access to files that are provided by JupyterLab.\n\n**NOTE:** The virtual file system **does not work when in private mode under Firefox** and you'll get permission errors. It will also fail to work if you **hard refresh** the page.",
      "metadata": {}
    },
    {
      "cell_type": "code",
      "source": "import os",
      "metadata": {
        "trusted": true
      },
      "execution_count": null,
      "outputs": []
    },
    {
      "cell_type": "code",
      "source": "os.getcwd()",
      "metadata": {
        "trusted": true
      },
      "execution_count": null,
      "outputs": []
    },
    {
      "cell_type": "markdown",
      "source": "### Make directory",
      "metadata": {}
    },
    {
      "cell_type": "code",
      "source": "os.path.isdir(\"dir\")",
      "metadata": {
        "trusted": true
      },
      "execution_count": null,
      "outputs": []
    },
    {
      "cell_type": "code",
      "source": "os.mkdir(\"dir\")",
      "metadata": {
        "trusted": true
      },
      "execution_count": null,
      "outputs": []
    },
    {
      "cell_type": "markdown",
      "source": "### List directory content",
      "metadata": {}
    },
    {
      "cell_type": "code",
      "source": "os.listdir(os.getcwd())",
      "metadata": {
        "trusted": true
      },
      "execution_count": null,
      "outputs": []
    },
    {
      "cell_type": "markdown",
      "source": "### Remove",
      "metadata": {}
    },
    {
      "cell_type": "code",
      "source": "os.rmdir('dir')",
      "metadata": {
        "trusted": true
      },
      "execution_count": null,
      "outputs": []
    },
    {
      "cell_type": "code",
      "source": "os.listdir(os.getcwd())",
      "metadata": {
        "trusted": true
      },
      "execution_count": null,
      "outputs": []
    },
    {
      "cell_type": "markdown",
      "source": "### Reading/writing file",
      "metadata": {
        "tags": []
      }
    },
    {
      "cell_type": "code",
      "source": "with open('test.txt', 'w') as fobj:\n    fobj.write('Hello! I write this from the kernel worker')",
      "metadata": {
        "trusted": true
      },
      "execution_count": null,
      "outputs": []
    },
    {
      "cell_type": "code",
      "source": "with open('test.txt', 'r') as fobj:\n    print(fobj.read())",
      "metadata": {
        "trusted": true
      },
      "execution_count": null,
      "outputs": []
    },
    {
      "cell_type": "code",
      "source": "from PIL import Image\n\nimg = Image.new('RGB', (60, 30), color=(73, 109, 137))\nimg.save('pil_color.png')",
      "metadata": {
        "trusted": true
      },
      "execution_count": null,
      "outputs": []
    },
    {
      "cell_type": "code",
      "source": "from IPython.display import Image\n\nwith open('pil_color.png', 'rb') as fobj:\n    data = fobj.read()\n\nprint(data[:20])\nImage(data=data, format='png')",
      "metadata": {
        "trusted": true
      },
      "execution_count": null,
      "outputs": []
    },
    {
      "cell_type": "markdown",
      "source": "### Replace",
      "metadata": {}
    },
    {
      "cell_type": "code",
      "source": "os.path.exists('test.txt')",
      "metadata": {
        "trusted": true
      },
      "execution_count": null,
      "outputs": []
    },
    {
      "cell_type": "code",
      "source": "os.rename(\"test.txt\", \"test_rename.txt\")",
      "metadata": {
        "trusted": true
      },
      "execution_count": null,
      "outputs": []
    },
    {
      "cell_type": "code",
      "source": "os.path.exists('test.txt')",
      "metadata": {
        "trusted": true
      },
      "execution_count": null,
      "outputs": []
    },
    {
      "cell_type": "code",
      "source": "os.listdir(os.getcwd())",
      "metadata": {
        "trusted": true
      },
      "execution_count": null,
      "outputs": []
    }
  ]
}